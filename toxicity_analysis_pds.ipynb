{
 "cells": [
  {
   "cell_type": "code",
   "execution_count": 1,
   "metadata": {
    "collapsed": true
   },
   "outputs": [],
   "source": [
    "#I start by importing pandas, numpy modules"
   ]
  },
  {
   "cell_type": "code",
   "execution_count": 2,
   "metadata": {
    "collapsed": true
   },
   "outputs": [],
   "source": [
    "import pandas as pd\n",
    "import numpy as np"
   ]
  },
  {
   "cell_type": "code",
   "execution_count": 3,
   "metadata": {
    "collapsed": true
   },
   "outputs": [],
   "source": [
    "# I load the tsv file\n",
    "df = pd.read_csv('C:\\\\Users\\\\smasango\\\\Desktop\\\\Portland Data Science\\\\toxicity_annotated_comments_unanimous.tsv', header=0, sep=\"\\t\")"
   ]
  },
  {
   "cell_type": "code",
   "execution_count": 4,
   "metadata": {},
   "outputs": [
    {
     "data": {
      "text/html": [
       "<div>\n",
       "<style>\n",
       "    .dataframe thead tr:only-child th {\n",
       "        text-align: right;\n",
       "    }\n",
       "\n",
       "    .dataframe thead th {\n",
       "        text-align: left;\n",
       "    }\n",
       "\n",
       "    .dataframe tbody tr th {\n",
       "        vertical-align: top;\n",
       "    }\n",
       "</style>\n",
       "<table border=\"1\" class=\"dataframe\">\n",
       "  <thead>\n",
       "    <tr style=\"text-align: right;\">\n",
       "      <th></th>\n",
       "      <th>rev_id</th>\n",
       "      <th>comment</th>\n",
       "      <th>year</th>\n",
       "      <th>logged_in</th>\n",
       "      <th>ns</th>\n",
       "      <th>sample</th>\n",
       "      <th>split</th>\n",
       "    </tr>\n",
       "  </thead>\n",
       "  <tbody>\n",
       "    <tr>\n",
       "      <th>0</th>\n",
       "      <td>527004.0</td>\n",
       "      <td>NEWLINE_TOKENNEWLINE_TOKENNEWLINE_TOKENNEWLINE...</td>\n",
       "      <td>2002</td>\n",
       "      <td>True</td>\n",
       "      <td>user</td>\n",
       "      <td>random</td>\n",
       "      <td>test</td>\n",
       "    </tr>\n",
       "    <tr>\n",
       "      <th>1</th>\n",
       "      <td>603474.0</td>\n",
       "      <td>`:Here I cannot answer your questions.  I did ...</td>\n",
       "      <td>2003</td>\n",
       "      <td>True</td>\n",
       "      <td>article</td>\n",
       "      <td>random</td>\n",
       "      <td>train</td>\n",
       "    </tr>\n",
       "    <tr>\n",
       "      <th>2</th>\n",
       "      <td>808576.0</td>\n",
       "      <td>NEWLINE_TOKENNEWLINE_TOKENIn fact, I've just d...</td>\n",
       "      <td>2003</td>\n",
       "      <td>True</td>\n",
       "      <td>user</td>\n",
       "      <td>random</td>\n",
       "      <td>dev</td>\n",
       "    </tr>\n",
       "    <tr>\n",
       "      <th>3</th>\n",
       "      <td>986363.0</td>\n",
       "      <td>16:13 1 Jun 2003 (UTC)</td>\n",
       "      <td>2003</td>\n",
       "      <td>True</td>\n",
       "      <td>article</td>\n",
       "      <td>random</td>\n",
       "      <td>train</td>\n",
       "    </tr>\n",
       "    <tr>\n",
       "      <th>4</th>\n",
       "      <td>1433843.0</td>\n",
       "      <td>NEWLINE_TOKENNEWLINE_TOKEN:I replied on .</td>\n",
       "      <td>2003</td>\n",
       "      <td>True</td>\n",
       "      <td>user</td>\n",
       "      <td>random</td>\n",
       "      <td>train</td>\n",
       "    </tr>\n",
       "  </tbody>\n",
       "</table>\n",
       "</div>"
      ],
      "text/plain": [
       "      rev_id                                            comment  year  \\\n",
       "0   527004.0  NEWLINE_TOKENNEWLINE_TOKENNEWLINE_TOKENNEWLINE...  2002   \n",
       "1   603474.0  `:Here I cannot answer your questions.  I did ...  2003   \n",
       "2   808576.0  NEWLINE_TOKENNEWLINE_TOKENIn fact, I've just d...  2003   \n",
       "3   986363.0                             16:13 1 Jun 2003 (UTC)  2003   \n",
       "4  1433843.0        NEWLINE_TOKENNEWLINE_TOKEN:I replied on .    2003   \n",
       "\n",
       "   logged_in       ns  sample  split  \n",
       "0       True     user  random   test  \n",
       "1       True  article  random  train  \n",
       "2       True     user  random    dev  \n",
       "3       True  article  random  train  \n",
       "4       True     user  random  train  "
      ]
     },
     "execution_count": 4,
     "metadata": {},
     "output_type": "execute_result"
    }
   ],
   "source": [
    "# display the first few rows\n",
    "df.tail()\n",
    "df.head()"
   ]
  },
  {
   "cell_type": "code",
   "execution_count": 5,
   "metadata": {
    "collapsed": true
   },
   "outputs": [],
   "source": [
    "# remove text that keeps appearing again but does not influence toxicity score\n",
    "df['comment'] = df['comment'].str.replace('NEWLINE_TOKEN', ' ')\n",
    "df['comment'] = df['comment'].str.replace('TAB_TOKEN',' ')\n",
    "df['comment'] = df['comment'].str.replace('Wikipedia',' ')\n",
    "df['comment'] = df['comment'].str.replace('UTC',' ')\n",
    "df['comment'] = df['comment'].str.replace('wikipedia',' ')"
   ]
  },
  {
   "cell_type": "code",
   "execution_count": 6,
   "metadata": {},
   "outputs": [
    {
     "data": {
      "text/html": [
       "<div>\n",
       "<style>\n",
       "    .dataframe thead tr:only-child th {\n",
       "        text-align: right;\n",
       "    }\n",
       "\n",
       "    .dataframe thead th {\n",
       "        text-align: left;\n",
       "    }\n",
       "\n",
       "    .dataframe tbody tr th {\n",
       "        vertical-align: top;\n",
       "    }\n",
       "</style>\n",
       "<table border=\"1\" class=\"dataframe\">\n",
       "  <thead>\n",
       "    <tr style=\"text-align: right;\">\n",
       "      <th></th>\n",
       "      <th>rev_id</th>\n",
       "      <th>comment</th>\n",
       "      <th>year</th>\n",
       "      <th>logged_in</th>\n",
       "      <th>ns</th>\n",
       "      <th>sample</th>\n",
       "      <th>split</th>\n",
       "    </tr>\n",
       "  </thead>\n",
       "  <tbody>\n",
       "    <tr>\n",
       "      <th>0</th>\n",
       "      <td>527004.0</td>\n",
       "      <td>Is something like Managing_Urban_America g...</td>\n",
       "      <td>2002</td>\n",
       "      <td>True</td>\n",
       "      <td>user</td>\n",
       "      <td>random</td>\n",
       "      <td>test</td>\n",
       "    </tr>\n",
       "    <tr>\n",
       "      <th>1</th>\n",
       "      <td>603474.0</td>\n",
       "      <td>`:Here I cannot answer your questions.  I did ...</td>\n",
       "      <td>2003</td>\n",
       "      <td>True</td>\n",
       "      <td>article</td>\n",
       "      <td>random</td>\n",
       "      <td>train</td>\n",
       "    </tr>\n",
       "    <tr>\n",
       "      <th>2</th>\n",
       "      <td>808576.0</td>\n",
       "      <td>In fact, I've just done it for you.</td>\n",
       "      <td>2003</td>\n",
       "      <td>True</td>\n",
       "      <td>user</td>\n",
       "      <td>random</td>\n",
       "      <td>dev</td>\n",
       "    </tr>\n",
       "    <tr>\n",
       "      <th>3</th>\n",
       "      <td>986363.0</td>\n",
       "      <td>16:13 1 Jun 2003 ( )</td>\n",
       "      <td>2003</td>\n",
       "      <td>True</td>\n",
       "      <td>article</td>\n",
       "      <td>random</td>\n",
       "      <td>train</td>\n",
       "    </tr>\n",
       "    <tr>\n",
       "      <th>4</th>\n",
       "      <td>1433843.0</td>\n",
       "      <td>:I replied on .</td>\n",
       "      <td>2003</td>\n",
       "      <td>True</td>\n",
       "      <td>user</td>\n",
       "      <td>random</td>\n",
       "      <td>train</td>\n",
       "    </tr>\n",
       "  </tbody>\n",
       "</table>\n",
       "</div>"
      ],
      "text/plain": [
       "      rev_id                                            comment  year  \\\n",
       "0   527004.0      Is something like Managing_Urban_America g...  2002   \n",
       "1   603474.0  `:Here I cannot answer your questions.  I did ...  2003   \n",
       "2   808576.0               In fact, I've just done it for you.   2003   \n",
       "3   986363.0                               16:13 1 Jun 2003 ( )  2003   \n",
       "4  1433843.0                                  :I replied on .    2003   \n",
       "\n",
       "   logged_in       ns  sample  split  \n",
       "0       True     user  random   test  \n",
       "1       True  article  random  train  \n",
       "2       True     user  random    dev  \n",
       "3       True  article  random  train  \n",
       "4       True     user  random  train  "
      ]
     },
     "execution_count": 6,
     "metadata": {},
     "output_type": "execute_result"
    }
   ],
   "source": [
    "df.head()"
   ]
  },
  {
   "cell_type": "code",
   "execution_count": 7,
   "metadata": {
    "collapsed": true
   },
   "outputs": [],
   "source": [
    "# Above file does not have toxicity score. Below I open file with toxicity score\n",
    "df2 = pd.read_csv('C:\\\\Users\\\\smasango\\\\Desktop\\\\Portland Data Science\\\\toxicity_annotations_unanimous.tsv', header = 0, sep = \"\\t\")"
   ]
  },
  {
   "cell_type": "code",
   "execution_count": 8,
   "metadata": {},
   "outputs": [
    {
     "data": {
      "text/html": [
       "<div>\n",
       "<style>\n",
       "    .dataframe thead tr:only-child th {\n",
       "        text-align: right;\n",
       "    }\n",
       "\n",
       "    .dataframe thead th {\n",
       "        text-align: left;\n",
       "    }\n",
       "\n",
       "    .dataframe tbody tr th {\n",
       "        vertical-align: top;\n",
       "    }\n",
       "</style>\n",
       "<table border=\"1\" class=\"dataframe\">\n",
       "  <thead>\n",
       "    <tr style=\"text-align: right;\">\n",
       "      <th></th>\n",
       "      <th>rev_id</th>\n",
       "      <th>worker_id</th>\n",
       "      <th>toxicity</th>\n",
       "      <th>toxicity_score</th>\n",
       "    </tr>\n",
       "  </thead>\n",
       "  <tbody>\n",
       "    <tr>\n",
       "      <th>0</th>\n",
       "      <td>527004.0</td>\n",
       "      <td>3802</td>\n",
       "      <td>0</td>\n",
       "      <td>0.0</td>\n",
       "    </tr>\n",
       "    <tr>\n",
       "      <th>1</th>\n",
       "      <td>527004.0</td>\n",
       "      <td>3942</td>\n",
       "      <td>0</td>\n",
       "      <td>0.0</td>\n",
       "    </tr>\n",
       "    <tr>\n",
       "      <th>2</th>\n",
       "      <td>527004.0</td>\n",
       "      <td>590</td>\n",
       "      <td>0</td>\n",
       "      <td>0.0</td>\n",
       "    </tr>\n",
       "    <tr>\n",
       "      <th>3</th>\n",
       "      <td>527004.0</td>\n",
       "      <td>481</td>\n",
       "      <td>0</td>\n",
       "      <td>0.0</td>\n",
       "    </tr>\n",
       "    <tr>\n",
       "      <th>4</th>\n",
       "      <td>527004.0</td>\n",
       "      <td>3944</td>\n",
       "      <td>0</td>\n",
       "      <td>0.0</td>\n",
       "    </tr>\n",
       "    <tr>\n",
       "      <th>5</th>\n",
       "      <td>527004.0</td>\n",
       "      <td>4172</td>\n",
       "      <td>0</td>\n",
       "      <td>0.0</td>\n",
       "    </tr>\n",
       "    <tr>\n",
       "      <th>6</th>\n",
       "      <td>527004.0</td>\n",
       "      <td>2419</td>\n",
       "      <td>0</td>\n",
       "      <td>0.0</td>\n",
       "    </tr>\n",
       "    <tr>\n",
       "      <th>7</th>\n",
       "      <td>527004.0</td>\n",
       "      <td>3323</td>\n",
       "      <td>0</td>\n",
       "      <td>0.0</td>\n",
       "    </tr>\n",
       "    <tr>\n",
       "      <th>8</th>\n",
       "      <td>527004.0</td>\n",
       "      <td>2851</td>\n",
       "      <td>0</td>\n",
       "      <td>0.0</td>\n",
       "    </tr>\n",
       "    <tr>\n",
       "      <th>9</th>\n",
       "      <td>527004.0</td>\n",
       "      <td>4175</td>\n",
       "      <td>0</td>\n",
       "      <td>0.0</td>\n",
       "    </tr>\n",
       "    <tr>\n",
       "      <th>10</th>\n",
       "      <td>603474.0</td>\n",
       "      <td>3278</td>\n",
       "      <td>0</td>\n",
       "      <td>0.0</td>\n",
       "    </tr>\n",
       "  </tbody>\n",
       "</table>\n",
       "</div>"
      ],
      "text/plain": [
       "      rev_id  worker_id  toxicity  toxicity_score\n",
       "0   527004.0       3802         0             0.0\n",
       "1   527004.0       3942         0             0.0\n",
       "2   527004.0        590         0             0.0\n",
       "3   527004.0        481         0             0.0\n",
       "4   527004.0       3944         0             0.0\n",
       "5   527004.0       4172         0             0.0\n",
       "6   527004.0       2419         0             0.0\n",
       "7   527004.0       3323         0             0.0\n",
       "8   527004.0       2851         0             0.0\n",
       "9   527004.0       4175         0             0.0\n",
       "10  603474.0       3278         0             0.0"
      ]
     },
     "execution_count": 8,
     "metadata": {},
     "output_type": "execute_result"
    }
   ],
   "source": [
    "df2.head(11)"
   ]
  },
  {
   "cell_type": "code",
   "execution_count": 9,
   "metadata": {
    "collapsed": true
   },
   "outputs": [],
   "source": [
    "# There are 10 scores for each comment. Below I group toxicity scores by rev_id\n",
    "uniqueScores = df2[[\"rev_id\", \"toxicity_score\"]].groupby(\"rev_id\", as_index=False).first()"
   ]
  },
  {
   "cell_type": "code",
   "execution_count": 10,
   "metadata": {},
   "outputs": [
    {
     "data": {
      "text/html": [
       "<div>\n",
       "<style>\n",
       "    .dataframe thead tr:only-child th {\n",
       "        text-align: right;\n",
       "    }\n",
       "\n",
       "    .dataframe thead th {\n",
       "        text-align: left;\n",
       "    }\n",
       "\n",
       "    .dataframe tbody tr th {\n",
       "        vertical-align: top;\n",
       "    }\n",
       "</style>\n",
       "<table border=\"1\" class=\"dataframe\">\n",
       "  <thead>\n",
       "    <tr style=\"text-align: right;\">\n",
       "      <th></th>\n",
       "      <th>rev_id</th>\n",
       "      <th>toxicity_score</th>\n",
       "    </tr>\n",
       "  </thead>\n",
       "  <tbody>\n",
       "    <tr>\n",
       "      <th>0</th>\n",
       "      <td>527004.0</td>\n",
       "      <td>0.0</td>\n",
       "    </tr>\n",
       "    <tr>\n",
       "      <th>1</th>\n",
       "      <td>603474.0</td>\n",
       "      <td>0.0</td>\n",
       "    </tr>\n",
       "    <tr>\n",
       "      <th>2</th>\n",
       "      <td>808576.0</td>\n",
       "      <td>0.0</td>\n",
       "    </tr>\n",
       "    <tr>\n",
       "      <th>3</th>\n",
       "      <td>986363.0</td>\n",
       "      <td>0.0</td>\n",
       "    </tr>\n",
       "    <tr>\n",
       "      <th>4</th>\n",
       "      <td>1433843.0</td>\n",
       "      <td>0.0</td>\n",
       "    </tr>\n",
       "    <tr>\n",
       "      <th>5</th>\n",
       "      <td>1988528.0</td>\n",
       "      <td>0.0</td>\n",
       "    </tr>\n",
       "    <tr>\n",
       "      <th>6</th>\n",
       "      <td>1988988.0</td>\n",
       "      <td>0.0</td>\n",
       "    </tr>\n",
       "    <tr>\n",
       "      <th>7</th>\n",
       "      <td>2078042.0</td>\n",
       "      <td>0.0</td>\n",
       "    </tr>\n",
       "    <tr>\n",
       "      <th>8</th>\n",
       "      <td>2747887.0</td>\n",
       "      <td>0.0</td>\n",
       "    </tr>\n",
       "    <tr>\n",
       "      <th>9</th>\n",
       "      <td>2850252.0</td>\n",
       "      <td>0.0</td>\n",
       "    </tr>\n",
       "    <tr>\n",
       "      <th>10</th>\n",
       "      <td>3072376.0</td>\n",
       "      <td>0.0</td>\n",
       "    </tr>\n",
       "  </tbody>\n",
       "</table>\n",
       "</div>"
      ],
      "text/plain": [
       "       rev_id  toxicity_score\n",
       "0    527004.0             0.0\n",
       "1    603474.0             0.0\n",
       "2    808576.0             0.0\n",
       "3    986363.0             0.0\n",
       "4   1433843.0             0.0\n",
       "5   1988528.0             0.0\n",
       "6   1988988.0             0.0\n",
       "7   2078042.0             0.0\n",
       "8   2747887.0             0.0\n",
       "9   2850252.0             0.0\n",
       "10  3072376.0             0.0"
      ]
     },
     "execution_count": 10,
     "metadata": {},
     "output_type": "execute_result"
    }
   ],
   "source": [
    "uniqueScores.head(11)"
   ]
  },
  {
   "cell_type": "code",
   "execution_count": 11,
   "metadata": {
    "collapsed": true
   },
   "outputs": [],
   "source": [
    "# Merge the 2 DataFrames\n",
    "\n",
    "mergedData = pd.merge(df, uniqueScores, on=\"rev_id\")"
   ]
  },
  {
   "cell_type": "code",
   "execution_count": 12,
   "metadata": {},
   "outputs": [
    {
     "data": {
      "text/html": [
       "<div>\n",
       "<style>\n",
       "    .dataframe thead tr:only-child th {\n",
       "        text-align: right;\n",
       "    }\n",
       "\n",
       "    .dataframe thead th {\n",
       "        text-align: left;\n",
       "    }\n",
       "\n",
       "    .dataframe tbody tr th {\n",
       "        vertical-align: top;\n",
       "    }\n",
       "</style>\n",
       "<table border=\"1\" class=\"dataframe\">\n",
       "  <thead>\n",
       "    <tr style=\"text-align: right;\">\n",
       "      <th></th>\n",
       "      <th>rev_id</th>\n",
       "      <th>comment</th>\n",
       "      <th>year</th>\n",
       "      <th>logged_in</th>\n",
       "      <th>ns</th>\n",
       "      <th>sample</th>\n",
       "      <th>split</th>\n",
       "      <th>toxicity_score</th>\n",
       "    </tr>\n",
       "  </thead>\n",
       "  <tbody>\n",
       "    <tr>\n",
       "      <th>0</th>\n",
       "      <td>527004.0</td>\n",
       "      <td>Is something like Managing_Urban_America g...</td>\n",
       "      <td>2002</td>\n",
       "      <td>True</td>\n",
       "      <td>user</td>\n",
       "      <td>random</td>\n",
       "      <td>test</td>\n",
       "      <td>0.0</td>\n",
       "    </tr>\n",
       "    <tr>\n",
       "      <th>1</th>\n",
       "      <td>603474.0</td>\n",
       "      <td>`:Here I cannot answer your questions.  I did ...</td>\n",
       "      <td>2003</td>\n",
       "      <td>True</td>\n",
       "      <td>article</td>\n",
       "      <td>random</td>\n",
       "      <td>train</td>\n",
       "      <td>0.0</td>\n",
       "    </tr>\n",
       "    <tr>\n",
       "      <th>2</th>\n",
       "      <td>808576.0</td>\n",
       "      <td>In fact, I've just done it for you.</td>\n",
       "      <td>2003</td>\n",
       "      <td>True</td>\n",
       "      <td>user</td>\n",
       "      <td>random</td>\n",
       "      <td>dev</td>\n",
       "      <td>0.0</td>\n",
       "    </tr>\n",
       "    <tr>\n",
       "      <th>3</th>\n",
       "      <td>986363.0</td>\n",
       "      <td>16:13 1 Jun 2003 ( )</td>\n",
       "      <td>2003</td>\n",
       "      <td>True</td>\n",
       "      <td>article</td>\n",
       "      <td>random</td>\n",
       "      <td>train</td>\n",
       "      <td>0.0</td>\n",
       "    </tr>\n",
       "    <tr>\n",
       "      <th>4</th>\n",
       "      <td>1433843.0</td>\n",
       "      <td>:I replied on .</td>\n",
       "      <td>2003</td>\n",
       "      <td>True</td>\n",
       "      <td>user</td>\n",
       "      <td>random</td>\n",
       "      <td>train</td>\n",
       "      <td>0.0</td>\n",
       "    </tr>\n",
       "  </tbody>\n",
       "</table>\n",
       "</div>"
      ],
      "text/plain": [
       "      rev_id                                            comment  year  \\\n",
       "0   527004.0      Is something like Managing_Urban_America g...  2002   \n",
       "1   603474.0  `:Here I cannot answer your questions.  I did ...  2003   \n",
       "2   808576.0               In fact, I've just done it for you.   2003   \n",
       "3   986363.0                               16:13 1 Jun 2003 ( )  2003   \n",
       "4  1433843.0                                  :I replied on .    2003   \n",
       "\n",
       "   logged_in       ns  sample  split  toxicity_score  \n",
       "0       True     user  random   test             0.0  \n",
       "1       True  article  random  train             0.0  \n",
       "2       True     user  random    dev             0.0  \n",
       "3       True  article  random  train             0.0  \n",
       "4       True     user  random  train             0.0  "
      ]
     },
     "execution_count": 12,
     "metadata": {},
     "output_type": "execute_result"
    }
   ],
   "source": [
    "mergedData.head()"
   ]
  },
  {
   "cell_type": "code",
   "execution_count": 13,
   "metadata": {},
   "outputs": [
    {
     "data": {
      "text/html": [
       "<div>\n",
       "<style>\n",
       "    .dataframe thead tr:only-child th {\n",
       "        text-align: right;\n",
       "    }\n",
       "\n",
       "    .dataframe thead th {\n",
       "        text-align: left;\n",
       "    }\n",
       "\n",
       "    .dataframe tbody tr th {\n",
       "        vertical-align: top;\n",
       "    }\n",
       "</style>\n",
       "<table border=\"1\" class=\"dataframe\">\n",
       "  <thead>\n",
       "    <tr style=\"text-align: right;\">\n",
       "      <th></th>\n",
       "      <th>rev_id</th>\n",
       "      <th>comment</th>\n",
       "      <th>year</th>\n",
       "      <th>logged_in</th>\n",
       "      <th>ns</th>\n",
       "      <th>sample</th>\n",
       "      <th>split</th>\n",
       "      <th>toxicity_score</th>\n",
       "    </tr>\n",
       "  </thead>\n",
       "  <tbody>\n",
       "    <tr>\n",
       "      <th>0</th>\n",
       "      <td>527004.0</td>\n",
       "      <td>is something like managing_urban_america g...</td>\n",
       "      <td>2002</td>\n",
       "      <td>True</td>\n",
       "      <td>user</td>\n",
       "      <td>random</td>\n",
       "      <td>test</td>\n",
       "      <td>0.0</td>\n",
       "    </tr>\n",
       "    <tr>\n",
       "      <th>1</th>\n",
       "      <td>603474.0</td>\n",
       "      <td>`:here i cannot answer your questions.  i did ...</td>\n",
       "      <td>2003</td>\n",
       "      <td>True</td>\n",
       "      <td>article</td>\n",
       "      <td>random</td>\n",
       "      <td>train</td>\n",
       "      <td>0.0</td>\n",
       "    </tr>\n",
       "    <tr>\n",
       "      <th>2</th>\n",
       "      <td>808576.0</td>\n",
       "      <td>in fact, i've just done it for you.</td>\n",
       "      <td>2003</td>\n",
       "      <td>True</td>\n",
       "      <td>user</td>\n",
       "      <td>random</td>\n",
       "      <td>dev</td>\n",
       "      <td>0.0</td>\n",
       "    </tr>\n",
       "    <tr>\n",
       "      <th>3</th>\n",
       "      <td>986363.0</td>\n",
       "      <td>16:13 1 jun 2003 ( )</td>\n",
       "      <td>2003</td>\n",
       "      <td>True</td>\n",
       "      <td>article</td>\n",
       "      <td>random</td>\n",
       "      <td>train</td>\n",
       "      <td>0.0</td>\n",
       "    </tr>\n",
       "    <tr>\n",
       "      <th>4</th>\n",
       "      <td>1433843.0</td>\n",
       "      <td>:i replied on .</td>\n",
       "      <td>2003</td>\n",
       "      <td>True</td>\n",
       "      <td>user</td>\n",
       "      <td>random</td>\n",
       "      <td>train</td>\n",
       "      <td>0.0</td>\n",
       "    </tr>\n",
       "  </tbody>\n",
       "</table>\n",
       "</div>"
      ],
      "text/plain": [
       "      rev_id                                            comment  year  \\\n",
       "0   527004.0      is something like managing_urban_america g...  2002   \n",
       "1   603474.0  `:here i cannot answer your questions.  i did ...  2003   \n",
       "2   808576.0               in fact, i've just done it for you.   2003   \n",
       "3   986363.0                               16:13 1 jun 2003 ( )  2003   \n",
       "4  1433843.0                                  :i replied on .    2003   \n",
       "\n",
       "   logged_in       ns  sample  split  toxicity_score  \n",
       "0       True     user  random   test             0.0  \n",
       "1       True  article  random  train             0.0  \n",
       "2       True     user  random    dev             0.0  \n",
       "3       True  article  random  train             0.0  \n",
       "4       True     user  random  train             0.0  "
      ]
     },
     "execution_count": 13,
     "metadata": {},
     "output_type": "execute_result"
    }
   ],
   "source": [
    "# lowercase everything in comment column\n",
    "mergedData.comment = mergedData.comment.str.lower()\n",
    "mergedData.head()"
   ]
  },
  {
   "cell_type": "code",
   "execution_count": 14,
   "metadata": {},
   "outputs": [
    {
     "data": {
      "text/html": [
       "<div>\n",
       "<style>\n",
       "    .dataframe thead tr:only-child th {\n",
       "        text-align: right;\n",
       "    }\n",
       "\n",
       "    .dataframe thead th {\n",
       "        text-align: left;\n",
       "    }\n",
       "\n",
       "    .dataframe tbody tr th {\n",
       "        vertical-align: top;\n",
       "    }\n",
       "</style>\n",
       "<table border=\"1\" class=\"dataframe\">\n",
       "  <thead>\n",
       "    <tr style=\"text-align: right;\">\n",
       "      <th></th>\n",
       "      <th>rev_id</th>\n",
       "      <th>comment</th>\n",
       "      <th>year</th>\n",
       "      <th>logged_in</th>\n",
       "      <th>ns</th>\n",
       "      <th>sample</th>\n",
       "      <th>split</th>\n",
       "      <th>toxicity_score</th>\n",
       "    </tr>\n",
       "  </thead>\n",
       "  <tbody>\n",
       "    <tr>\n",
       "      <th>0</th>\n",
       "      <td>527004.0</td>\n",
       "      <td>is something like managing_urban_america g...</td>\n",
       "      <td>2002</td>\n",
       "      <td>True</td>\n",
       "      <td>user</td>\n",
       "      <td>random</td>\n",
       "      <td>test</td>\n",
       "      <td>0.0</td>\n",
       "    </tr>\n",
       "    <tr>\n",
       "      <th>1</th>\n",
       "      <td>603474.0</td>\n",
       "      <td>`:here i cannot answer your questions.  i did ...</td>\n",
       "      <td>2003</td>\n",
       "      <td>True</td>\n",
       "      <td>article</td>\n",
       "      <td>random</td>\n",
       "      <td>train</td>\n",
       "      <td>0.0</td>\n",
       "    </tr>\n",
       "    <tr>\n",
       "      <th>2</th>\n",
       "      <td>808576.0</td>\n",
       "      <td>in fact, i've just done it for you.</td>\n",
       "      <td>2003</td>\n",
       "      <td>True</td>\n",
       "      <td>user</td>\n",
       "      <td>random</td>\n",
       "      <td>dev</td>\n",
       "      <td>0.0</td>\n",
       "    </tr>\n",
       "    <tr>\n",
       "      <th>3</th>\n",
       "      <td>986363.0</td>\n",
       "      <td>16:13 1  2003 ( )</td>\n",
       "      <td>2003</td>\n",
       "      <td>True</td>\n",
       "      <td>article</td>\n",
       "      <td>random</td>\n",
       "      <td>train</td>\n",
       "      <td>0.0</td>\n",
       "    </tr>\n",
       "    <tr>\n",
       "      <th>4</th>\n",
       "      <td>1433843.0</td>\n",
       "      <td>:i replied on .</td>\n",
       "      <td>2003</td>\n",
       "      <td>True</td>\n",
       "      <td>user</td>\n",
       "      <td>random</td>\n",
       "      <td>train</td>\n",
       "      <td>0.0</td>\n",
       "    </tr>\n",
       "    <tr>\n",
       "      <th>5</th>\n",
       "      <td>1988528.0</td>\n",
       "      <td>ha ah aha hahahahhahahahhahah</td>\n",
       "      <td>2003</td>\n",
       "      <td>False</td>\n",
       "      <td>user</td>\n",
       "      <td>random</td>\n",
       "      <td>train</td>\n",
       "      <td>0.0</td>\n",
       "    </tr>\n",
       "    <tr>\n",
       "      <th>6</th>\n",
       "      <td>1988988.0</td>\n",
       "      <td>request from   hi tim - is your page at  s...</td>\n",
       "      <td>2003</td>\n",
       "      <td>True</td>\n",
       "      <td>user</td>\n",
       "      <td>random</td>\n",
       "      <td>train</td>\n",
       "      <td>0.0</td>\n",
       "    </tr>\n",
       "    <tr>\n",
       "      <th>7</th>\n",
       "      <td>2078042.0</td>\n",
       "      <td>i unprotected  - assuming accidental/old v...</td>\n",
       "      <td>2003</td>\n",
       "      <td>True</td>\n",
       "      <td>user</td>\n",
       "      <td>random</td>\n",
       "      <td>train</td>\n",
       "      <td>0.0</td>\n",
       "    </tr>\n",
       "    <tr>\n",
       "      <th>8</th>\n",
       "      <td>2747887.0</td>\n",
       "      <td>oh - well - if you put it that way, all i ca...</td>\n",
       "      <td>2004</td>\n",
       "      <td>True</td>\n",
       "      <td>user</td>\n",
       "      <td>random</td>\n",
       "      <td>test</td>\n",
       "      <td>0.0</td>\n",
       "    </tr>\n",
       "    <tr>\n",
       "      <th>9</th>\n",
       "      <td>2850252.0</td>\n",
       "      <td>hi  i really appreciate that someone does ...</td>\n",
       "      <td>2004</td>\n",
       "      <td>True</td>\n",
       "      <td>user</td>\n",
       "      <td>random</td>\n",
       "      <td>test</td>\n",
       "      <td>0.0</td>\n",
       "    </tr>\n",
       "  </tbody>\n",
       "</table>\n",
       "</div>"
      ],
      "text/plain": [
       "      rev_id                                            comment  year  \\\n",
       "0   527004.0      is something like managing_urban_america g...  2002   \n",
       "1   603474.0  `:here i cannot answer your questions.  i did ...  2003   \n",
       "2   808576.0               in fact, i've just done it for you.   2003   \n",
       "3   986363.0                                  16:13 1  2003 ( )  2003   \n",
       "4  1433843.0                                  :i replied on .    2003   \n",
       "5  1988528.0                      ha ah aha hahahahhahahahhahah  2003   \n",
       "6  1988988.0      request from   hi tim - is your page at  s...  2003   \n",
       "7  2078042.0      i unprotected  - assuming accidental/old v...  2003   \n",
       "8  2747887.0    oh - well - if you put it that way, all i ca...  2004   \n",
       "9  2850252.0      hi  i really appreciate that someone does ...  2004   \n",
       "\n",
       "   logged_in       ns  sample  split  toxicity_score  \n",
       "0       True     user  random   test             0.0  \n",
       "1       True  article  random  train             0.0  \n",
       "2       True     user  random    dev             0.0  \n",
       "3       True  article  random  train             0.0  \n",
       "4       True     user  random  train             0.0  \n",
       "5      False     user  random  train             0.0  \n",
       "6       True     user  random  train             0.0  \n",
       "7       True     user  random  train             0.0  \n",
       "8       True     user  random   test             0.0  \n",
       "9       True     user  random   test             0.0  "
      ]
     },
     "execution_count": 14,
     "metadata": {},
     "output_type": "execute_result"
    }
   ],
   "source": [
    "# More cleanup. Remove all months using a dictionary\n",
    "replacements = {\n",
    "    'utc': '', 'jan': '', 'feb': '','mar': '','apr':'','may':'', 'jun':'', 'jul':'', 'aug':'', 'sep':'',\n",
    "    'oct':'', 'nov':'', 'dec':'', 'january':'','february':'','march':'','april':'','may':'','june':'',\n",
    "    'july':'','august':'','september':'','october':'','november':'', 'december':''\n",
    "}\n",
    "mergedData['comment'].replace(replacements, regex=True, inplace = True)\n",
    "mergedData.head(10)"
   ]
  },
  {
   "cell_type": "code",
   "execution_count": 15,
   "metadata": {},
   "outputs": [
    {
     "data": {
      "text/html": [
       "<div>\n",
       "<style>\n",
       "    .dataframe thead tr:only-child th {\n",
       "        text-align: right;\n",
       "    }\n",
       "\n",
       "    .dataframe thead th {\n",
       "        text-align: left;\n",
       "    }\n",
       "\n",
       "    .dataframe tbody tr th {\n",
       "        vertical-align: top;\n",
       "    }\n",
       "</style>\n",
       "<table border=\"1\" class=\"dataframe\">\n",
       "  <thead>\n",
       "    <tr style=\"text-align: right;\">\n",
       "      <th></th>\n",
       "      <th>rev_id</th>\n",
       "      <th>comment</th>\n",
       "      <th>year</th>\n",
       "      <th>logged_in</th>\n",
       "      <th>ns</th>\n",
       "      <th>sample</th>\n",
       "      <th>split</th>\n",
       "      <th>toxicity_score</th>\n",
       "    </tr>\n",
       "  </thead>\n",
       "  <tbody>\n",
       "    <tr>\n",
       "      <th>0</th>\n",
       "      <td>527004.0</td>\n",
       "      <td>is something like managingurbanamerica goi...</td>\n",
       "      <td>2002</td>\n",
       "      <td>True</td>\n",
       "      <td>user</td>\n",
       "      <td>random</td>\n",
       "      <td>test</td>\n",
       "      <td>0.0</td>\n",
       "    </tr>\n",
       "    <tr>\n",
       "      <th>1</th>\n",
       "      <td>603474.0</td>\n",
       "      <td>here i cannot answer your questions  i did not...</td>\n",
       "      <td>2003</td>\n",
       "      <td>True</td>\n",
       "      <td>article</td>\n",
       "      <td>random</td>\n",
       "      <td>train</td>\n",
       "      <td>0.0</td>\n",
       "    </tr>\n",
       "    <tr>\n",
       "      <th>2</th>\n",
       "      <td>808576.0</td>\n",
       "      <td>in fact ive just done it for you</td>\n",
       "      <td>2003</td>\n",
       "      <td>True</td>\n",
       "      <td>user</td>\n",
       "      <td>random</td>\n",
       "      <td>dev</td>\n",
       "      <td>0.0</td>\n",
       "    </tr>\n",
       "    <tr>\n",
       "      <th>3</th>\n",
       "      <td>986363.0</td>\n",
       "      <td></td>\n",
       "      <td>2003</td>\n",
       "      <td>True</td>\n",
       "      <td>article</td>\n",
       "      <td>random</td>\n",
       "      <td>train</td>\n",
       "      <td>0.0</td>\n",
       "    </tr>\n",
       "    <tr>\n",
       "      <th>4</th>\n",
       "      <td>1433843.0</td>\n",
       "      <td>i replied on</td>\n",
       "      <td>2003</td>\n",
       "      <td>True</td>\n",
       "      <td>user</td>\n",
       "      <td>random</td>\n",
       "      <td>train</td>\n",
       "      <td>0.0</td>\n",
       "    </tr>\n",
       "    <tr>\n",
       "      <th>5</th>\n",
       "      <td>1988528.0</td>\n",
       "      <td>ha ah aha hahahahhahahahhahah</td>\n",
       "      <td>2003</td>\n",
       "      <td>False</td>\n",
       "      <td>user</td>\n",
       "      <td>random</td>\n",
       "      <td>train</td>\n",
       "      <td>0.0</td>\n",
       "    </tr>\n",
       "    <tr>\n",
       "      <th>6</th>\n",
       "      <td>1988988.0</td>\n",
       "      <td>request from   hi tim  is your page at  st...</td>\n",
       "      <td>2003</td>\n",
       "      <td>True</td>\n",
       "      <td>user</td>\n",
       "      <td>random</td>\n",
       "      <td>train</td>\n",
       "      <td>0.0</td>\n",
       "    </tr>\n",
       "    <tr>\n",
       "      <th>7</th>\n",
       "      <td>2078042.0</td>\n",
       "      <td>i unprotected   assuming accidentalold van...</td>\n",
       "      <td>2003</td>\n",
       "      <td>True</td>\n",
       "      <td>user</td>\n",
       "      <td>random</td>\n",
       "      <td>train</td>\n",
       "      <td>0.0</td>\n",
       "    </tr>\n",
       "    <tr>\n",
       "      <th>8</th>\n",
       "      <td>2747887.0</td>\n",
       "      <td>oh  well  if you put it that way all i can s...</td>\n",
       "      <td>2004</td>\n",
       "      <td>True</td>\n",
       "      <td>user</td>\n",
       "      <td>random</td>\n",
       "      <td>test</td>\n",
       "      <td>0.0</td>\n",
       "    </tr>\n",
       "    <tr>\n",
       "      <th>9</th>\n",
       "      <td>2850252.0</td>\n",
       "      <td>hi  i really appreciate that someone does ...</td>\n",
       "      <td>2004</td>\n",
       "      <td>True</td>\n",
       "      <td>user</td>\n",
       "      <td>random</td>\n",
       "      <td>test</td>\n",
       "      <td>0.0</td>\n",
       "    </tr>\n",
       "  </tbody>\n",
       "</table>\n",
       "</div>"
      ],
      "text/plain": [
       "      rev_id                                            comment  year  \\\n",
       "0   527004.0      is something like managingurbanamerica goi...  2002   \n",
       "1   603474.0  here i cannot answer your questions  i did not...  2003   \n",
       "2   808576.0                  in fact ive just done it for you   2003   \n",
       "3   986363.0                                                     2003   \n",
       "4  1433843.0                                    i replied on     2003   \n",
       "5  1988528.0                      ha ah aha hahahahhahahahhahah  2003   \n",
       "6  1988988.0      request from   hi tim  is your page at  st...  2003   \n",
       "7  2078042.0      i unprotected   assuming accidentalold van...  2003   \n",
       "8  2747887.0    oh  well  if you put it that way all i can s...  2004   \n",
       "9  2850252.0      hi  i really appreciate that someone does ...  2004   \n",
       "\n",
       "   logged_in       ns  sample  split  toxicity_score  \n",
       "0       True     user  random   test             0.0  \n",
       "1       True  article  random  train             0.0  \n",
       "2       True     user  random    dev             0.0  \n",
       "3       True  article  random  train             0.0  \n",
       "4       True     user  random  train             0.0  \n",
       "5      False     user  random  train             0.0  \n",
       "6       True     user  random  train             0.0  \n",
       "7       True     user  random  train             0.0  \n",
       "8       True     user  random   test             0.0  \n",
       "9       True     user  random   test             0.0  "
      ]
     },
     "execution_count": 15,
     "metadata": {},
     "output_type": "execute_result"
    }
   ],
   "source": [
    "# Include only alpha characters\n",
    "\n",
    "import re\n",
    "\n",
    "mergedData.comment = mergedData.comment.apply(lambda x: re.sub('[^a-zA-Z\\s]', '', x))\n",
    "mergedData.head(10)"
   ]
  },
  {
   "cell_type": "code",
   "execution_count": 16,
   "metadata": {},
   "outputs": [
    {
     "data": {
      "text/html": [
       "<div>\n",
       "<style>\n",
       "    .dataframe thead tr:only-child th {\n",
       "        text-align: right;\n",
       "    }\n",
       "\n",
       "    .dataframe thead th {\n",
       "        text-align: left;\n",
       "    }\n",
       "\n",
       "    .dataframe tbody tr th {\n",
       "        vertical-align: top;\n",
       "    }\n",
       "</style>\n",
       "<table border=\"1\" class=\"dataframe\">\n",
       "  <thead>\n",
       "    <tr style=\"text-align: right;\">\n",
       "      <th></th>\n",
       "      <th>rev_id</th>\n",
       "      <th>comment</th>\n",
       "      <th>year</th>\n",
       "      <th>logged_in</th>\n",
       "      <th>ns</th>\n",
       "      <th>sample</th>\n",
       "      <th>split</th>\n",
       "      <th>toxicity_score</th>\n",
       "      <th>length</th>\n",
       "    </tr>\n",
       "  </thead>\n",
       "  <tbody>\n",
       "    <tr>\n",
       "      <th>0</th>\n",
       "      <td>527004.0</td>\n",
       "      <td>is something like managingurbanamerica goi...</td>\n",
       "      <td>2002</td>\n",
       "      <td>True</td>\n",
       "      <td>user</td>\n",
       "      <td>random</td>\n",
       "      <td>test</td>\n",
       "      <td>0.0</td>\n",
       "      <td>91</td>\n",
       "    </tr>\n",
       "    <tr>\n",
       "      <th>1</th>\n",
       "      <td>603474.0</td>\n",
       "      <td>here i cannot answer your questions  i did not...</td>\n",
       "      <td>2003</td>\n",
       "      <td>True</td>\n",
       "      <td>article</td>\n",
       "      <td>random</td>\n",
       "      <td>train</td>\n",
       "      <td>0.0</td>\n",
       "      <td>406</td>\n",
       "    </tr>\n",
       "    <tr>\n",
       "      <th>2</th>\n",
       "      <td>808576.0</td>\n",
       "      <td>in fact ive just done it for you</td>\n",
       "      <td>2003</td>\n",
       "      <td>True</td>\n",
       "      <td>user</td>\n",
       "      <td>random</td>\n",
       "      <td>dev</td>\n",
       "      <td>0.0</td>\n",
       "      <td>38</td>\n",
       "    </tr>\n",
       "    <tr>\n",
       "      <th>3</th>\n",
       "      <td>986363.0</td>\n",
       "      <td></td>\n",
       "      <td>2003</td>\n",
       "      <td>True</td>\n",
       "      <td>article</td>\n",
       "      <td>random</td>\n",
       "      <td>train</td>\n",
       "      <td>0.0</td>\n",
       "      <td>23</td>\n",
       "    </tr>\n",
       "    <tr>\n",
       "      <th>4</th>\n",
       "      <td>1433843.0</td>\n",
       "      <td>i replied on</td>\n",
       "      <td>2003</td>\n",
       "      <td>True</td>\n",
       "      <td>user</td>\n",
       "      <td>random</td>\n",
       "      <td>train</td>\n",
       "      <td>0.0</td>\n",
       "      <td>19</td>\n",
       "    </tr>\n",
       "  </tbody>\n",
       "</table>\n",
       "</div>"
      ],
      "text/plain": [
       "      rev_id                                            comment  year  \\\n",
       "0   527004.0      is something like managingurbanamerica goi...  2002   \n",
       "1   603474.0  here i cannot answer your questions  i did not...  2003   \n",
       "2   808576.0                  in fact ive just done it for you   2003   \n",
       "3   986363.0                                                     2003   \n",
       "4  1433843.0                                    i replied on     2003   \n",
       "\n",
       "   logged_in       ns  sample  split  toxicity_score  length  \n",
       "0       True     user  random   test             0.0      91  \n",
       "1       True  article  random  train             0.0     406  \n",
       "2       True     user  random    dev             0.0      38  \n",
       "3       True  article  random  train             0.0      23  \n",
       "4       True     user  random  train             0.0      19  "
      ]
     },
     "execution_count": 16,
     "metadata": {},
     "output_type": "execute_result"
    }
   ],
   "source": [
    "# Add comment length column\n",
    "\n",
    "mergedData['length'] = df.comment.apply(lambda x: len(x))\n",
    "mergedData.head()"
   ]
  },
  {
   "cell_type": "code",
   "execution_count": 17,
   "metadata": {},
   "outputs": [
    {
     "data": {
      "text/html": [
       "<div>\n",
       "<style>\n",
       "    .dataframe thead tr:only-child th {\n",
       "        text-align: right;\n",
       "    }\n",
       "\n",
       "    .dataframe thead th {\n",
       "        text-align: left;\n",
       "    }\n",
       "\n",
       "    .dataframe tbody tr th {\n",
       "        vertical-align: top;\n",
       "    }\n",
       "</style>\n",
       "<table border=\"1\" class=\"dataframe\">\n",
       "  <thead>\n",
       "    <tr style=\"text-align: right;\">\n",
       "      <th></th>\n",
       "      <th>rev_id</th>\n",
       "      <th>year</th>\n",
       "      <th>toxicity_score</th>\n",
       "      <th>length</th>\n",
       "    </tr>\n",
       "  </thead>\n",
       "  <tbody>\n",
       "    <tr>\n",
       "      <th>count</th>\n",
       "      <td>3.582000e+03</td>\n",
       "      <td>3582.000000</td>\n",
       "      <td>3582.000000</td>\n",
       "      <td>3582.000000</td>\n",
       "    </tr>\n",
       "    <tr>\n",
       "      <th>mean</th>\n",
       "      <td>3.251383e+08</td>\n",
       "      <td>2009.564489</td>\n",
       "      <td>0.011446</td>\n",
       "      <td>123.652708</td>\n",
       "    </tr>\n",
       "    <tr>\n",
       "      <th>std</th>\n",
       "      <td>2.015736e+08</td>\n",
       "      <td>2.970703</td>\n",
       "      <td>0.346737</td>\n",
       "      <td>330.155149</td>\n",
       "    </tr>\n",
       "    <tr>\n",
       "      <th>min</th>\n",
       "      <td>5.270040e+05</td>\n",
       "      <td>2001.000000</td>\n",
       "      <td>-2.000000</td>\n",
       "      <td>5.000000</td>\n",
       "    </tr>\n",
       "    <tr>\n",
       "      <th>25%</th>\n",
       "      <td>1.531170e+08</td>\n",
       "      <td>2007.000000</td>\n",
       "      <td>0.000000</td>\n",
       "      <td>31.000000</td>\n",
       "    </tr>\n",
       "    <tr>\n",
       "      <th>50%</th>\n",
       "      <td>3.064077e+08</td>\n",
       "      <td>2009.000000</td>\n",
       "      <td>0.000000</td>\n",
       "      <td>45.000000</td>\n",
       "    </tr>\n",
       "    <tr>\n",
       "      <th>75%</th>\n",
       "      <td>4.960040e+08</td>\n",
       "      <td>2012.000000</td>\n",
       "      <td>0.000000</td>\n",
       "      <td>89.000000</td>\n",
       "    </tr>\n",
       "    <tr>\n",
       "      <th>max</th>\n",
       "      <td>6.996604e+08</td>\n",
       "      <td>2016.000000</td>\n",
       "      <td>1.000000</td>\n",
       "      <td>5000.000000</td>\n",
       "    </tr>\n",
       "  </tbody>\n",
       "</table>\n",
       "</div>"
      ],
      "text/plain": [
       "             rev_id         year  toxicity_score       length\n",
       "count  3.582000e+03  3582.000000     3582.000000  3582.000000\n",
       "mean   3.251383e+08  2009.564489        0.011446   123.652708\n",
       "std    2.015736e+08     2.970703        0.346737   330.155149\n",
       "min    5.270040e+05  2001.000000       -2.000000     5.000000\n",
       "25%    1.531170e+08  2007.000000        0.000000    31.000000\n",
       "50%    3.064077e+08  2009.000000        0.000000    45.000000\n",
       "75%    4.960040e+08  2012.000000        0.000000    89.000000\n",
       "max    6.996604e+08  2016.000000        1.000000  5000.000000"
      ]
     },
     "execution_count": 17,
     "metadata": {},
     "output_type": "execute_result"
    }
   ],
   "source": [
    "# Get statistics\n",
    "mergedData.describe()"
   ]
  },
  {
   "cell_type": "code",
   "execution_count": 18,
   "metadata": {},
   "outputs": [
    {
     "data": {
      "text/html": [
       "<div>\n",
       "<style>\n",
       "    .dataframe thead tr:only-child th {\n",
       "        text-align: right;\n",
       "    }\n",
       "\n",
       "    .dataframe thead th {\n",
       "        text-align: left;\n",
       "    }\n",
       "\n",
       "    .dataframe tbody tr th {\n",
       "        vertical-align: top;\n",
       "    }\n",
       "</style>\n",
       "<table border=\"1\" class=\"dataframe\">\n",
       "  <thead>\n",
       "    <tr style=\"text-align: right;\">\n",
       "      <th></th>\n",
       "      <th>rev_id</th>\n",
       "      <th>comment</th>\n",
       "      <th>year</th>\n",
       "      <th>logged_in</th>\n",
       "      <th>ns</th>\n",
       "      <th>sample</th>\n",
       "      <th>split</th>\n",
       "      <th>toxicity_score</th>\n",
       "      <th>length</th>\n",
       "    </tr>\n",
       "  </thead>\n",
       "  <tbody>\n",
       "    <tr>\n",
       "      <th>6</th>\n",
       "      <td>1988988.0</td>\n",
       "      <td>request from   hi tim  is your page at  st...</td>\n",
       "      <td>2003</td>\n",
       "      <td>True</td>\n",
       "      <td>user</td>\n",
       "      <td>random</td>\n",
       "      <td>train</td>\n",
       "      <td>0.0</td>\n",
       "      <td>450</td>\n",
       "    </tr>\n",
       "    <tr>\n",
       "      <th>347</th>\n",
       "      <td>56835865.0</td>\n",
       "      <td>thank you for experimenting with the page am...</td>\n",
       "      <td>2006</td>\n",
       "      <td>True</td>\n",
       "      <td>user</td>\n",
       "      <td>random</td>\n",
       "      <td>train</td>\n",
       "      <td>1.0</td>\n",
       "      <td>450</td>\n",
       "    </tr>\n",
       "  </tbody>\n",
       "</table>\n",
       "</div>"
      ],
      "text/plain": [
       "         rev_id                                            comment  year  \\\n",
       "6     1988988.0      request from   hi tim  is your page at  st...  2003   \n",
       "347  56835865.0    thank you for experimenting with the page am...  2006   \n",
       "\n",
       "     logged_in    ns  sample  split  toxicity_score  length  \n",
       "6         True  user  random  train             0.0     450  \n",
       "347       True  user  random  train             1.0     450  "
      ]
     },
     "execution_count": 18,
     "metadata": {},
     "output_type": "execute_result"
    }
   ],
   "source": [
    "# Print out row with comment length = 450\n",
    "\n",
    "mergedData.loc[mergedData['length'] == 450]"
   ]
  },
  {
   "cell_type": "code",
   "execution_count": 19,
   "metadata": {},
   "outputs": [
    {
     "data": {
      "text/plain": [
       "'  thank you for experimenting with the page amazon river on   your test worked and has been reverted or removed please use the sandbox for any other tests you want to do take a look at the welcome page if you would like to learn more about contributing to our encyclopedia thank you for your understanding  a link to the edit i have reverted can be found here link if you believe this edit should not have been reverted please contact me   '"
      ]
     },
     "execution_count": 19,
     "metadata": {},
     "output_type": "execute_result"
    }
   ],
   "source": [
    "mergedData.get_value(347, 'comment')"
   ]
  },
  {
   "cell_type": "code",
   "execution_count": 20,
   "metadata": {},
   "outputs": [
    {
     "name": "stdout",
     "output_type": "stream",
     "text": [
      "<class 'pandas.core.frame.DataFrame'>\n",
      "Int64Index: 3582 entries, 0 to 3581\n",
      "Data columns (total 9 columns):\n",
      "rev_id            3582 non-null float64\n",
      "comment           3582 non-null object\n",
      "year              3582 non-null int64\n",
      "logged_in         3582 non-null bool\n",
      "ns                3582 non-null object\n",
      "sample            3582 non-null object\n",
      "split             3582 non-null object\n",
      "toxicity_score    3582 non-null float64\n",
      "length            3582 non-null int64\n",
      "dtypes: bool(1), float64(2), int64(2), object(4)\n",
      "memory usage: 415.4+ KB\n"
     ]
    }
   ],
   "source": [
    "mergedData.info()"
   ]
  },
  {
   "cell_type": "code",
   "execution_count": 21,
   "metadata": {},
   "outputs": [
    {
     "data": {
      "text/html": [
       "<div>\n",
       "<style>\n",
       "    .dataframe thead tr:only-child th {\n",
       "        text-align: right;\n",
       "    }\n",
       "\n",
       "    .dataframe thead th {\n",
       "        text-align: left;\n",
       "    }\n",
       "\n",
       "    .dataframe tbody tr th {\n",
       "        vertical-align: top;\n",
       "    }\n",
       "</style>\n",
       "<table border=\"1\" class=\"dataframe\">\n",
       "  <thead>\n",
       "    <tr style=\"text-align: right;\">\n",
       "      <th></th>\n",
       "      <th>length</th>\n",
       "      <th>year</th>\n",
       "      <th>toxicity_score</th>\n",
       "      <th>rev_id</th>\n",
       "    </tr>\n",
       "  </thead>\n",
       "  <tbody>\n",
       "    <tr>\n",
       "      <th>length</th>\n",
       "      <td>1.000000</td>\n",
       "      <td>-0.028690</td>\n",
       "      <td>0.034047</td>\n",
       "      <td>-0.031738</td>\n",
       "    </tr>\n",
       "    <tr>\n",
       "      <th>year</th>\n",
       "      <td>-0.028690</td>\n",
       "      <td>1.000000</td>\n",
       "      <td>-0.013052</td>\n",
       "      <td>0.991147</td>\n",
       "    </tr>\n",
       "    <tr>\n",
       "      <th>toxicity_score</th>\n",
       "      <td>0.034047</td>\n",
       "      <td>-0.013052</td>\n",
       "      <td>1.000000</td>\n",
       "      <td>-0.016787</td>\n",
       "    </tr>\n",
       "    <tr>\n",
       "      <th>rev_id</th>\n",
       "      <td>-0.031738</td>\n",
       "      <td>0.991147</td>\n",
       "      <td>-0.016787</td>\n",
       "      <td>1.000000</td>\n",
       "    </tr>\n",
       "  </tbody>\n",
       "</table>\n",
       "</div>"
      ],
      "text/plain": [
       "                  length      year  toxicity_score    rev_id\n",
       "length          1.000000 -0.028690        0.034047 -0.031738\n",
       "year           -0.028690  1.000000       -0.013052  0.991147\n",
       "toxicity_score  0.034047 -0.013052        1.000000 -0.016787\n",
       "rev_id         -0.031738  0.991147       -0.016787  1.000000"
      ]
     },
     "execution_count": 21,
     "metadata": {},
     "output_type": "execute_result"
    }
   ],
   "source": [
    "# I could not deduce any meaningful correlations between columns\n",
    "mergedData[['length', 'year', 'toxicity_score', 'rev_id']].corr(method='pearson')"
   ]
  },
  {
   "cell_type": "code",
   "execution_count": 22,
   "metadata": {
    "collapsed": true
   },
   "outputs": [],
   "source": [
    "# Use NLTK to extract words from text\n",
    "# Import RegexpTokenizer from nltk.tokenize\n",
    "import nltk\n",
    "from nltk.tokenize import RegexpTokenizer\n",
    "\n",
    "# Create tokenizer. \n",
    "# '\\w+' will match any alphanumeric A-z, a-z, 0-9, along with underscores\n",
    "tokenizer = RegexpTokenizer('\\w+')\n"
   ]
  },
  {
   "cell_type": "code",
   "execution_count": 23,
   "metadata": {
    "collapsed": true
   },
   "outputs": [],
   "source": [
    "comment = mergedData.loc[:, \"comment\"]"
   ]
  },
  {
   "cell_type": "code",
   "execution_count": 24,
   "metadata": {},
   "outputs": [
    {
     "name": "stdout",
     "output_type": "stream",
     "text": [
      "['    is something like managingurbanamerica going to be a problem       ', 'here i cannot answer your questions  i did not write the above it was in the original article but towards the bottom  given the organization of the article such as it is i thought this kind of information belonged earlier so i moved it up  i do recall biologists using the word locus when refering to alleles so i didnt question the choice of words  but as i say i did not write this  ', '  in fact ive just done it for you ', '        ']\n"
     ]
    }
   ],
   "source": [
    "# Create a list of all comments\n",
    "all_words = []\n",
    "for word in comment:\n",
    "    all_words.append(word)\n",
    "print(all_words[:4])\n",
    "magama = str(all_words)\n",
    "#print(magama)"
   ]
  },
  {
   "cell_type": "code",
   "execution_count": 25,
   "metadata": {},
   "outputs": [
    {
     "data": {
      "text/plain": [
       "['is',\n",
       " 'something',\n",
       " 'like',\n",
       " 'managingurbanamerica',\n",
       " 'going',\n",
       " 'to',\n",
       " 'be',\n",
       " 'a',\n",
       " 'problem',\n",
       " 'here']"
      ]
     },
     "execution_count": 25,
     "metadata": {},
     "output_type": "execute_result"
    }
   ],
   "source": [
    "# Create tokens. magama has to be a string\n",
    "tokens = tokenizer.tokenize(magama)\n",
    "tokens[:10]"
   ]
  },
  {
   "cell_type": "code",
   "execution_count": 26,
   "metadata": {},
   "outputs": [
    {
     "data": {
      "text/plain": [
       "['is',\n",
       " 'something',\n",
       " 'like',\n",
       " 'managingurbanamerica',\n",
       " 'going',\n",
       " 'to',\n",
       " 'be',\n",
       " 'a',\n",
       " 'problem',\n",
       " 'here']"
      ]
     },
     "execution_count": 26,
     "metadata": {},
     "output_type": "execute_result"
    }
   ],
   "source": [
    "# Initialize new list\n",
    "words = []\n",
    "\n",
    "# Loop through list tokens and make lower case\n",
    "\n",
    "for word in tokens:\n",
    "    words.append(word.lower())\n",
    "\n",
    "# Print several items from list as sanity check\n",
    "\n",
    "words[:10]"
   ]
  },
  {
   "cell_type": "code",
   "execution_count": 27,
   "metadata": {},
   "outputs": [
    {
     "data": {
      "text/plain": [
       "['i',\n",
       " 'me',\n",
       " 'my',\n",
       " 'myself',\n",
       " 'we',\n",
       " 'our',\n",
       " 'ours',\n",
       " 'ourselves',\n",
       " 'you',\n",
       " 'your',\n",
       " 'yours',\n",
       " 'yourself',\n",
       " 'yourselves',\n",
       " 'he',\n",
       " 'him',\n",
       " 'his',\n",
       " 'himself',\n",
       " 'she',\n",
       " 'her',\n",
       " 'hers']"
      ]
     },
     "execution_count": 27,
     "metadata": {},
     "output_type": "execute_result"
    }
   ],
   "source": [
    "# Do sanity check and get English stopwords and print some of them\n",
    "sw = nltk.corpus.stopwords.words('english')\n",
    "sw[:20]"
   ]
  },
  {
   "cell_type": "code",
   "execution_count": 28,
   "metadata": {},
   "outputs": [
    {
     "data": {
      "text/plain": [
       "['something',\n",
       " 'like',\n",
       " 'managingurbanamerica',\n",
       " 'going',\n",
       " 'problem',\n",
       " 'cannot',\n",
       " 'answer',\n",
       " 'questions',\n",
       " 'write',\n",
       " 'original']"
      ]
     },
     "execution_count": 28,
     "metadata": {},
     "output_type": "execute_result"
    }
   ],
   "source": [
    "# Initialize new list\n",
    "words_ns = []\n",
    "\n",
    "\n",
    "# Add to words_ns all words that are in words but not in sw\n",
    "\n",
    "for word in words:\n",
    "    if word not in sw:\n",
    "        words_ns.append(word.lower())\n",
    "\n",
    "\n",
    "# Print several list items as sanity check\n",
    "words_ns[:10]"
   ]
  },
  {
   "cell_type": "code",
   "execution_count": 29,
   "metadata": {},
   "outputs": [
    {
     "data": {
      "image/png": "[encoded data removed]",
      "text/plain": [
       "<matplotlib.figure.Figure at 0x4b82c1f98>"
      ]
     },
     "metadata": {},
     "output_type": "display_data"
    }
   ],
   "source": [
    "#Import datavisualization libraries\n",
    "import matplotlib.pyplot as plt\n",
    "import seaborn as sns\n",
    "\n",
    "\n",
    "# Figures inline and set visualization style\n",
    "%matplotlib inline\n",
    "sns.set()\n",
    "\n",
    "\n",
    "# Create freq dist and plot\n",
    "freqdist1 = nltk.FreqDist(words_ns)\n",
    "freqdist1.plot(40)"
   ]
  },
  {
   "cell_type": "code",
   "execution_count": 30,
   "metadata": {},
   "outputs": [
    {
     "data": {
      "text/plain": [
       "<seaborn.axisgrid.PairGrid at 0x4b7c0e5c0>"
      ]
     },
     "execution_count": 30,
     "metadata": {},
     "output_type": "execute_result"
    },
    {
     "data": {
      "image/png": "[encoded data removed]",
      "text/plain": [
       "<matplotlib.figure.Figure at 0x4b7c07940>"
      ]
     },
     "metadata": {},
     "output_type": "display_data"
    }
   ],
   "source": [
    "# Plot pairwise relationships in the dataset\n",
    "sns.pairplot(mergedData, hue = 'toxicity_score')\n"
   ]
  },
  {
   "cell_type": "code",
   "execution_count": 31,
   "metadata": {},
   "outputs": [
    {
     "data": {
      "text/plain": [
       "Text(0,0.5,'toxicity score')"
      ]
     },
     "execution_count": 31,
     "metadata": {},
     "output_type": "execute_result"
    },
    {
     "data": {
      "image/png": "[encoded data removed]",
      "text/plain": [
       "<matplotlib.figure.Figure at 0x4bb114f98>"
      ]
     },
     "metadata": {},
     "output_type": "display_data"
    }
   ],
   "source": [
    "# Toxicity score vs year plot looks very interesting. Highly toxic comments happened betwen 2006 and 2011.\n",
    "plt.scatter(mergedData['year'] ,mergedData['toxicity_score'])\n",
    "plt.xlabel('year')\n",
    "plt.ylabel('toxicity score')"
   ]
  },
  {
   "cell_type": "code",
   "execution_count": 48,
   "metadata": {},
   "outputs": [],
   "source": [
    "# Get a sense of how many comments in each toxicity_score category\n",
    "gby_score = mergedData.groupby(\"toxicity_score\", as_index=True)"
   ]
  },
  {
   "cell_type": "code",
   "execution_count": 50,
   "metadata": {},
   "outputs": [
    {
     "data": {
      "text/html": [
       "<div>\n",
       "<style>\n",
       "    .dataframe thead tr:only-child th {\n",
       "        text-align: right;\n",
       "    }\n",
       "\n",
       "    .dataframe thead th {\n",
       "        text-align: left;\n",
       "    }\n",
       "\n",
       "    .dataframe tbody tr th {\n",
       "        vertical-align: top;\n",
       "    }\n",
       "</style>\n",
       "<table border=\"1\" class=\"dataframe\">\n",
       "  <thead>\n",
       "    <tr>\n",
       "      <th></th>\n",
       "      <th colspan=\"8\" halign=\"left\">length</th>\n",
       "      <th colspan=\"5\" halign=\"left\">rev_id</th>\n",
       "      <th colspan=\"8\" halign=\"left\">year</th>\n",
       "    </tr>\n",
       "    <tr>\n",
       "      <th></th>\n",
       "      <th>count</th>\n",
       "      <th>mean</th>\n",
       "      <th>std</th>\n",
       "      <th>min</th>\n",
       "      <th>25%</th>\n",
       "      <th>50%</th>\n",
       "      <th>75%</th>\n",
       "      <th>max</th>\n",
       "      <th>count</th>\n",
       "      <th>mean</th>\n",
       "      <th>...</th>\n",
       "      <th>75%</th>\n",
       "      <th>max</th>\n",
       "      <th>count</th>\n",
       "      <th>mean</th>\n",
       "      <th>std</th>\n",
       "      <th>min</th>\n",
       "      <th>25%</th>\n",
       "      <th>50%</th>\n",
       "      <th>75%</th>\n",
       "      <th>max</th>\n",
       "    </tr>\n",
       "    <tr>\n",
       "      <th>toxicity_score</th>\n",
       "      <th></th>\n",
       "      <th></th>\n",
       "      <th></th>\n",
       "      <th></th>\n",
       "      <th></th>\n",
       "      <th></th>\n",
       "      <th></th>\n",
       "      <th></th>\n",
       "      <th></th>\n",
       "      <th></th>\n",
       "      <th></th>\n",
       "      <th></th>\n",
       "      <th></th>\n",
       "      <th></th>\n",
       "      <th></th>\n",
       "      <th></th>\n",
       "      <th></th>\n",
       "      <th></th>\n",
       "      <th></th>\n",
       "      <th></th>\n",
       "      <th></th>\n",
       "    </tr>\n",
       "  </thead>\n",
       "  <tbody>\n",
       "    <tr>\n",
       "      <th>-2.0</th>\n",
       "      <td>12.0</td>\n",
       "      <td>2163.000000</td>\n",
       "      <td>1910.167817</td>\n",
       "      <td>62.0</td>\n",
       "      <td>152.5</td>\n",
       "      <td>2383.0</td>\n",
       "      <td>3570.25</td>\n",
       "      <td>5000.0</td>\n",
       "      <td>12.0</td>\n",
       "      <td>2.427436e+08</td>\n",
       "      <td>...</td>\n",
       "      <td>316231835.5</td>\n",
       "      <td>412618110.0</td>\n",
       "      <td>12.0</td>\n",
       "      <td>2008.333333</td>\n",
       "      <td>1.435481</td>\n",
       "      <td>2006.0</td>\n",
       "      <td>2007.0</td>\n",
       "      <td>2008.5</td>\n",
       "      <td>2009.0</td>\n",
       "      <td>2011.0</td>\n",
       "    </tr>\n",
       "    <tr>\n",
       "      <th>-1.0</th>\n",
       "      <td>159.0</td>\n",
       "      <td>186.911950</td>\n",
       "      <td>405.172527</td>\n",
       "      <td>22.0</td>\n",
       "      <td>47.0</td>\n",
       "      <td>79.0</td>\n",
       "      <td>184.50</td>\n",
       "      <td>4461.0</td>\n",
       "      <td>159.0</td>\n",
       "      <td>2.991569e+08</td>\n",
       "      <td>...</td>\n",
       "      <td>436055748.0</td>\n",
       "      <td>699660419.0</td>\n",
       "      <td>159.0</td>\n",
       "      <td>2009.201258</td>\n",
       "      <td>2.680874</td>\n",
       "      <td>2005.0</td>\n",
       "      <td>2007.0</td>\n",
       "      <td>2009.0</td>\n",
       "      <td>2011.0</td>\n",
       "      <td>2016.0</td>\n",
       "    </tr>\n",
       "    <tr>\n",
       "      <th>0.0</th>\n",
       "      <td>3187.0</td>\n",
       "      <td>89.925008</td>\n",
       "      <td>249.854080</td>\n",
       "      <td>5.0</td>\n",
       "      <td>30.0</td>\n",
       "      <td>42.0</td>\n",
       "      <td>70.00</td>\n",
       "      <td>4886.0</td>\n",
       "      <td>3187.0</td>\n",
       "      <td>3.299798e+08</td>\n",
       "      <td>...</td>\n",
       "      <td>503621652.5</td>\n",
       "      <td>697971737.0</td>\n",
       "      <td>3187.0</td>\n",
       "      <td>2009.629746</td>\n",
       "      <td>2.996603</td>\n",
       "      <td>2001.0</td>\n",
       "      <td>2007.0</td>\n",
       "      <td>2009.0</td>\n",
       "      <td>2012.0</td>\n",
       "      <td>2016.0</td>\n",
       "    </tr>\n",
       "    <tr>\n",
       "      <th>1.0</th>\n",
       "      <td>224.0</td>\n",
       "      <td>449.366071</td>\n",
       "      <td>461.222639</td>\n",
       "      <td>24.0</td>\n",
       "      <td>174.5</td>\n",
       "      <td>301.5</td>\n",
       "      <td>581.00</td>\n",
       "      <td>4436.0</td>\n",
       "      <td>224.0</td>\n",
       "      <td>2.791115e+08</td>\n",
       "      <td>...</td>\n",
       "      <td>438444460.5</td>\n",
       "      <td>683965519.0</td>\n",
       "      <td>224.0</td>\n",
       "      <td>2008.959821</td>\n",
       "      <td>2.761554</td>\n",
       "      <td>2004.0</td>\n",
       "      <td>2007.0</td>\n",
       "      <td>2008.0</td>\n",
       "      <td>2011.0</td>\n",
       "      <td>2015.0</td>\n",
       "    </tr>\n",
       "  </tbody>\n",
       "</table>\n",
       "<p>4 rows × 24 columns</p>\n",
       "</div>"
      ],
      "text/plain": [
       "                length                                                 \\\n",
       "                 count         mean          std   min    25%     50%   \n",
       "toxicity_score                                                          \n",
       "-2.0              12.0  2163.000000  1910.167817  62.0  152.5  2383.0   \n",
       "-1.0             159.0   186.911950   405.172527  22.0   47.0    79.0   \n",
       " 0.0            3187.0    89.925008   249.854080   5.0   30.0    42.0   \n",
       " 1.0             224.0   449.366071   461.222639  24.0  174.5   301.5   \n",
       "\n",
       "                                 rev_id                 ...                 \\\n",
       "                    75%     max   count          mean   ...            75%   \n",
       "toxicity_score                                          ...                  \n",
       "-2.0            3570.25  5000.0    12.0  2.427436e+08   ...    316231835.5   \n",
       "-1.0             184.50  4461.0   159.0  2.991569e+08   ...    436055748.0   \n",
       " 0.0              70.00  4886.0  3187.0  3.299798e+08   ...    503621652.5   \n",
       " 1.0             581.00  4436.0   224.0  2.791115e+08   ...    438444460.5   \n",
       "\n",
       "                               year                                         \\\n",
       "                        max   count         mean       std     min     25%   \n",
       "toxicity_score                                                               \n",
       "-2.0            412618110.0    12.0  2008.333333  1.435481  2006.0  2007.0   \n",
       "-1.0            699660419.0   159.0  2009.201258  2.680874  2005.0  2007.0   \n",
       " 0.0            697971737.0  3187.0  2009.629746  2.996603  2001.0  2007.0   \n",
       " 1.0            683965519.0   224.0  2008.959821  2.761554  2004.0  2007.0   \n",
       "\n",
       "                                        \n",
       "                   50%     75%     max  \n",
       "toxicity_score                          \n",
       "-2.0            2008.5  2009.0  2011.0  \n",
       "-1.0            2009.0  2011.0  2016.0  \n",
       " 0.0            2009.0  2012.0  2016.0  \n",
       " 1.0            2008.0  2011.0  2015.0  \n",
       "\n",
       "[4 rows x 24 columns]"
      ]
     },
     "execution_count": 50,
     "metadata": {},
     "output_type": "execute_result"
    }
   ],
   "source": [
    "# Just only 12 highly toxic comments!\n",
    "gby_score.describe()"
   ]
  },
  {
   "cell_type": "code",
   "execution_count": 53,
   "metadata": {},
   "outputs": [
    {
     "data": {
      "text/plain": [
       "array([[<matplotlib.axes._subplots.AxesSubplot object at 0x00000004BBAD9C88>,\n",
       "        <matplotlib.axes._subplots.AxesSubplot object at 0x00000004BBF93860>],\n",
       "       [<matplotlib.axes._subplots.AxesSubplot object at 0x00000004BBFC7EF0>,\n",
       "        <matplotlib.axes._subplots.AxesSubplot object at 0x00000004BBFEE160>]], dtype=object)"
      ]
     },
     "execution_count": 53,
     "metadata": {},
     "output_type": "execute_result"
    },
    {
     "data": {
      "image/png": "[encoded data removed]",
      "text/plain": [
       "<matplotlib.figure.Figure at 0x4bbef2240>"
      ]
     },
     "metadata": {},
     "output_type": "display_data"
    }
   ],
   "source": [
    "# Plot histogram of toxicity_score and year\n",
    "mergedData.hist(column='year',by ='toxicity_score',bins=10,figsize = (10,4))"
   ]
  },
  {
   "cell_type": "code",
   "execution_count": 54,
   "metadata": {},
   "outputs": [
    {
     "data": {
      "text/plain": [
       "array([[<matplotlib.axes._subplots.AxesSubplot object at 0x00000004BC01D390>,\n",
       "        <matplotlib.axes._subplots.AxesSubplot object at 0x00000004BC134EB8>],\n",
       "       [<matplotlib.axes._subplots.AxesSubplot object at 0x00000004BC173518>,\n",
       "        <matplotlib.axes._subplots.AxesSubplot object at 0x00000004BC1B10B8>]], dtype=object)"
      ]
     },
     "execution_count": 54,
     "metadata": {},
     "output_type": "execute_result"
    },
    {
     "data": {
      "image/png": "[encoded data removed]",
      "text/plain": [
       "<matplotlib.figure.Figure at 0x4bbcffa58>"
      ]
     },
     "metadata": {},
     "output_type": "display_data"
    }
   ],
   "source": [
    "# Plot histogram of toxicity_score and comment length\n",
    "mergedData.hist(column='length',by ='toxicity_score',bins=10,figsize = (10,4))"
   ]
  },
  {
   "cell_type": "code",
   "execution_count": 56,
   "metadata": {},
   "outputs": [],
   "source": [
    "# Plot frequency distribution of toxic comments, with score of -1\n",
    "tox_minus_one = mergedData.loc[:, [\"comment\", \"toxicity_score\", \"year\"]]\n",
    "list_toxic = []\n",
    "for index, row in tox_minus_one.iterrows():\n",
    "    if row['toxicity_score'] == -1:\n",
    "        list_toxic.append(row)\n",
    "#print(list_toxic[:20])     "
   ]
  },
  {
   "cell_type": "code",
   "execution_count": 57,
   "metadata": {},
   "outputs": [
    {
     "data": {
      "text/plain": [
       "['comment',\n",
       " 'your',\n",
       " 'just',\n",
       " 'a',\n",
       " 'stupid',\n",
       " 'red',\n",
       " 'neck',\n",
       " 'and',\n",
       " 'you',\n",
       " 'make',\n",
       " 'no',\n",
       " 's',\n",
       " 'toxicity_score',\n",
       " '1',\n",
       " 'year',\n",
       " '2005',\n",
       " 'Name',\n",
       " '54',\n",
       " 'dtype',\n",
       " 'object',\n",
       " 'comment',\n",
       " 'survey',\n",
       " 'says',\n",
       " 'chanting',\n",
       " 'fox',\n",
       " 'is',\n",
       " 'idiotic',\n",
       " 'you',\n",
       " 'peop',\n",
       " 'toxicity_score',\n",
       " '1',\n",
       " 'year',\n",
       " '2005',\n",
       " 'Name',\n",
       " '59',\n",
       " 'dtype',\n",
       " 'object',\n",
       " 'comment',\n",
       " 'excuse',\n",
       " 'me',\n",
       " 'whoever',\n",
       " 'the',\n",
       " 'fuck',\n",
       " 'you',\n",
       " 'are',\n",
       " 'spui',\n",
       " 's',\n",
       " 'toxicity_score',\n",
       " '1',\n",
       " 'year']"
      ]
     },
     "execution_count": 57,
     "metadata": {},
     "output_type": "execute_result"
    }
   ],
   "source": [
    "tokens2 = tokenizer.tokenize(str(list_toxic))\n",
    "tokens2[:50] "
   ]
  },
  {
   "cell_type": "code",
   "execution_count": 60,
   "metadata": {},
   "outputs": [],
   "source": [
    "# Remove all numeric characters and not so meaningful words\n",
    "\n",
    "toxic_refined = re.sub('[^a-zA-Z\\s]', '', str(list_toxic))\n",
    "toxic_refined = toxic_refined.replace('comment', '')\n",
    "toxic_refined = toxic_refined.replace('toxicityscore', '')\n",
    "toxic_refined = toxic_refined.replace('year', '')\n",
    "toxic_refined = toxic_refined.replace('Name', '')\n",
    "toxic_refined = toxic_refined.replace('dtype', '')\n",
    "toxic_refined = toxic_refined.replace('object', '')\n",
    "#print(toxic_refined)"
   ]
  },
  {
   "cell_type": "code",
   "execution_count": 64,
   "metadata": {},
   "outputs": [
    {
     "data": {
      "text/plain": [
       "['your',\n",
       " 'just',\n",
       " 'a',\n",
       " 'stupid',\n",
       " 'red',\n",
       " 'neck',\n",
       " 'and',\n",
       " 'you',\n",
       " 'make',\n",
       " 'no',\n",
       " 's',\n",
       " 'survey',\n",
       " 'says',\n",
       " 'chanting',\n",
       " 'fox',\n",
       " 'is',\n",
       " 'idiotic',\n",
       " 'you',\n",
       " 'peop',\n",
       " 'excuse',\n",
       " 'me',\n",
       " 'whoever',\n",
       " 'the',\n",
       " 'fuck',\n",
       " 'you',\n",
       " 'are',\n",
       " 'spui',\n",
       " 's',\n",
       " 'you',\n",
       " 'ignoramus',\n",
       " 'my',\n",
       " 'cousin',\n",
       " 'just',\n",
       " 'did',\n",
       " 'the',\n",
       " 'hitler',\n",
       " 'pi',\n",
       " 'dont',\n",
       " 'you',\n",
       " 'just',\n",
       " 'love',\n",
       " 'idiots',\n",
       " 'im',\n",
       " 'working',\n",
       " 'in',\n",
       " 't',\n",
       " 'thats',\n",
       " 'stupid',\n",
       " 'it',\n",
       " 'wasnt']"
      ]
     },
     "execution_count": 64,
     "metadata": {},
     "output_type": "execute_result"
    }
   ],
   "source": [
    "tokens2 = tokenizer.tokenize(toxic_refined)\n",
    "tokens2[:50] "
   ]
  },
  {
   "cell_type": "code",
   "execution_count": 65,
   "metadata": {},
   "outputs": [
    {
     "data": {
      "text/plain": [
       "['your', 'just', 'a', 'stupid', 'red', 'neck', 'and', 'you', 'make', 'no']"
      ]
     },
     "execution_count": 65,
     "metadata": {},
     "output_type": "execute_result"
    }
   ],
   "source": [
    "words2 = []\n",
    "\n",
    "for word in tokens2:\n",
    "    words2.append(word.lower())\n",
    "\n",
    "words2[:10]"
   ]
  },
  {
   "cell_type": "code",
   "execution_count": 66,
   "metadata": {},
   "outputs": [
    {
     "data": {
      "text/plain": [
       "['stupid',\n",
       " 'red',\n",
       " 'neck',\n",
       " 'make',\n",
       " 'survey',\n",
       " 'says',\n",
       " 'chanting',\n",
       " 'fox',\n",
       " 'idiotic',\n",
       " 'peop']"
      ]
     },
     "execution_count": 66,
     "metadata": {},
     "output_type": "execute_result"
    }
   ],
   "source": [
    "words_ns2 = []\n",
    "\n",
    "for word in words2:\n",
    "    if word not in sw:\n",
    "        words_ns2.append(word.lower())\n",
    "\n",
    "words_ns2[:10]"
   ]
  },
  {
   "cell_type": "code",
   "execution_count": 67,
   "metadata": {},
   "outputs": [
    {
     "data": {
      "image/png": "[encoded data removed]",
      "text/plain": [
       "<matplotlib.figure.Figure at 0x4bc2d60f0>"
      ]
     },
     "metadata": {},
     "output_type": "display_data"
    }
   ],
   "source": [
    "# Plot word frequency distribution\n",
    "freqdist2 = nltk.FreqDist(words_ns2)\n",
    "freqdist2.plot(50)"
   ]
  },
  {
   "cell_type": "code",
   "execution_count": 68,
   "metadata": {
    "collapsed": true
   },
   "outputs": [],
   "source": [
    "# Use scikit learn, split data into train and test set\n",
    "from sklearn.feature_extraction.text import TfidfVectorizer\n",
    "from sklearn.model_selection import train_test_split"
   ]
  },
  {
   "cell_type": "code",
   "execution_count": 74,
   "metadata": {},
   "outputs": [
    {
     "data": {
      "text/plain": [
       "count        2865\n",
       "unique       2815\n",
       "top         uary \n",
       "freq            6\n",
       "Name: comment, dtype: object"
      ]
     },
     "execution_count": 74,
     "metadata": {},
     "output_type": "execute_result"
    }
   ],
   "source": [
    "train_set_df, test_set_df = train_test_split(mergedData, test_size=0.2, random_state=987)\n",
    "all_words_train = train_set_df.comment\n",
    "all_words_test = test_set_df.comment\n",
    "\n",
    "all_words_test.describe()\n",
    "all_words_train.describe()"
   ]
  },
  {
   "cell_type": "code",
   "execution_count": 76,
   "metadata": {},
   "outputs": [
    {
     "data": {
      "text/plain": [
       "count    2865.000000\n",
       "mean        0.004887\n",
       "std         0.344516\n",
       "min        -2.000000\n",
       "25%         0.000000\n",
       "50%         0.000000\n",
       "75%         0.000000\n",
       "max         1.000000\n",
       "Name: toxicity_score, dtype: float64"
      ]
     },
     "execution_count": 76,
     "metadata": {},
     "output_type": "execute_result"
    }
   ],
   "source": [
    "# Looks like can think of X as input column and Y as output column\n",
    "vectorizer = TfidfVectorizer(min_df=2, ngram_range=(1, 3),\n",
    "                             stop_words='english',  strip_accents='unicode',  norm='l2',          \n",
    "                             max_features = 5000)\n",
    "\n",
    "X_train = vectorizer.fit_transform(all_words_train)\n",
    "X_test = vectorizer.transform(all_words_test)\n",
    "\n",
    "y_train = train_set_df.toxicity_score\n",
    "y_test = test_set_df.toxicity_score\n",
    "y_train.describe()\n"
   ]
  },
  {
   "cell_type": "code",
   "execution_count": 78,
   "metadata": {
    "collapsed": true
   },
   "outputs": [],
   "source": [
    "# Which classifier to use and how accurate is it?\n",
    "\n",
    "# Here I started with the RandomForestClassifier\n",
    "\n",
    "from sklearn.ensemble import RandomForestClassifier\n",
    "from sklearn.metrics import accuracy_score\n",
    "from sklearn.metrics import confusion_matrix"
   ]
  },
  {
   "cell_type": "code",
   "execution_count": 79,
   "metadata": {
    "collapsed": true
   },
   "outputs": [],
   "source": [
    "random_forest = RandomForestClassifier(n_estimators=30, max_depth=10, random_state=1)"
   ]
  },
  {
   "cell_type": "code",
   "execution_count": 81,
   "metadata": {},
   "outputs": [
    {
     "data": {
      "text/plain": [
       "RandomForestClassifier(bootstrap=True, class_weight=None, criterion='gini',\n",
       "            max_depth=10, max_features='auto', max_leaf_nodes=None,\n",
       "            min_impurity_decrease=0.0, min_impurity_split=None,\n",
       "            min_samples_leaf=1, min_samples_split=2,\n",
       "            min_weight_fraction_leaf=0.0, n_estimators=30, n_jobs=1,\n",
       "            oob_score=False, random_state=1, verbose=0, warm_start=False)"
      ]
     },
     "execution_count": 81,
     "metadata": {},
     "output_type": "execute_result"
    }
   ],
   "source": [
    "random_forest.fit(X_train, y_train)"
   ]
  },
  {
   "cell_type": "code",
   "execution_count": 82,
   "metadata": {},
   "outputs": [
    {
     "data": {
      "text/plain": [
       "0.88842398884239893"
      ]
     },
     "execution_count": 82,
     "metadata": {},
     "output_type": "execute_result"
    }
   ],
   "source": [
    "# This function computes subset accuracy. The set of labels predicted (y_predict) for a sample must exactly match \n",
    "# the corresponding set of labels in y_test\n",
    "y_predict = random_forest.predict(X_test)\n",
    "accuracy_score(y_test, y_predict)"
   ]
  },
  {
   "cell_type": "code",
   "execution_count": 85,
   "metadata": {},
   "outputs": [
    {
     "name": "stdout",
     "output_type": "stream",
     "text": [
      "<class 'pandas.core.frame.DataFrame'>\n"
     ]
    }
   ],
   "source": [
    "# Create DataFrame of Actual vs Predicted\n",
    "df_compare = pd.DataFrame({'Actual': [y_test], 'Predicted': [y_predict]})  \n",
    "#print(y_test, y_predict)\n",
    "print(type(df_compare))"
   ]
  },
  {
   "cell_type": "code",
   "execution_count": 86,
   "metadata": {
    "collapsed": true
   },
   "outputs": [],
   "source": [
    "# Try Multinomial Naive Bayes Classifier\n",
    "from sklearn.naive_bayes import MultinomialNB"
   ]
  },
  {
   "cell_type": "code",
   "execution_count": 88,
   "metadata": {},
   "outputs": [
    {
     "data": {
      "text/plain": [
       "0.88563458856345889"
      ]
     },
     "execution_count": 88,
     "metadata": {},
     "output_type": "execute_result"
    }
   ],
   "source": [
    "NBclassifier = MultinomialNB()\n",
    "NBclassifier.fit(X_train, y_train)\n",
    "Y_predict = NBclassifier.predict(X_test)\n",
    "accuracy_score(y_test, Y_predict)"
   ]
  },
  {
   "cell_type": "code",
   "execution_count": null,
   "metadata": {
    "collapsed": true
   },
   "outputs": [],
   "source": [
    "# Conclusion\n",
    "# Both classifiers give an accuracy score of 88%. It would be interesting to apply these classifiers to the \n",
    "# non-unanimous data. The unanimous dataset is heavily skewed towards neutral comments. Applying these classifiers\n",
    "# to skewed data might not give the best results"
   ]
  }
 ],
 "metadata": {
  "kernelspec": {
   "display_name": "Python 3",
   "language": "python",
   "name": "python3"
  },
  "language_info": {
   "codemirror_mode": {
    "name": "ipython",
    "version": 3
   },
   "file_extension": ".py",
   "mimetype": "text/x-python",
   "name": "python",
   "nbconvert_exporter": "python",
   "pygments_lexer": "ipython3",
   "version": "3.6.3"
  }
 },
 "nbformat": 4,
 "nbformat_minor": 2
}
